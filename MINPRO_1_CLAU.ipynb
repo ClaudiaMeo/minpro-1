{
  "nbformat": 4,
  "nbformat_minor": 0,
  "metadata": {
    "colab": {
      "provenance": [],
      "authorship_tag": "ABX9TyMBywecK6fLU0amdQITV60f",
      "include_colab_link": true
    },
    "kernelspec": {
      "name": "python3",
      "display_name": "Python 3"
    },
    "language_info": {
      "name": "python"
    }
  },
  "cells": [
    {
      "cell_type": "markdown",
      "metadata": {
        "id": "view-in-github",
        "colab_type": "text"
      },
      "source": [
        "<a href=\"https://colab.research.google.com/github/ClaudiaMeo/minpro-1/blob/main/MINPRO_1_CLAU.ipynb\" target=\"_parent\"><img src=\"https://colab.research.google.com/assets/colab-badge.svg\" alt=\"Open In Colab\"/></a>"
      ]
    },
    {
      "cell_type": "markdown",
      "source": [
        "# Business Understanding\n"
      ],
      "metadata": {
        "id": "xtG4tsMPAIB4"
      }
    },
    {
      "cell_type": "markdown",
      "source": [
        "# Business Objective"
      ],
      "metadata": {
        "id": "XEK0Tdq5A_Kv"
      }
    },
    {
      "cell_type": "markdown",
      "source": [
        "Industri film terus berkembang dengan persaingan yang ketat antara berbagai studio produksi. Setiap film yang dirilis diharapkan dapat meraih keuntungan besar, namun kesuksesan finansial sebuah film tidak selalu bergantung pada anggaran produksinya. Oleh karena itu, tujuan utama dari analisis ini adalah untuk memahami faktor-faktor yang mempengaruhi keberhasilan film, terutama dalam kaitannya dengan pendapatan global. Dengan analisis ini, diharapkan rumah produksi dapat mengambil keputusan yang lebih tepat dalam mengalokasikan anggaran dan strategi pemasaran."
      ],
      "metadata": {
        "id": "lUGIzkKZGow-"
      }
    },
    {
      "cell_type": "code",
      "source": [],
      "metadata": {
        "id": "uO_zfhVFDZGM"
      },
      "execution_count": null,
      "outputs": []
    },
    {
      "cell_type": "markdown",
      "source": [
        "# Assess Situation"
      ],
      "metadata": {
        "id": "GrxJvTMyBLY_"
      }
    },
    {
      "cell_type": "markdown",
      "source": [
        "Dalam industri perfilman, berbagai faktor seperti anggaran produksi, rating IMDb, Metascore, serta strategi pemasaran dapat mempengaruhi pendapatan sebuah film. Namun, tidak semua faktor ini memiliki dampak yang sama terhadap keberhasilan film. Oleh karena itu, perlu dilakukan analisis untuk mengidentifikasi faktor mana yang memiliki korelasi tinggi terhadap kesuksesan film. Dataset yang digunakan dalam studi ini mencakup informasi tentang judul film, perusahaan produksi, rating, anggaran produksi, dan pendapatan domestik maupun global, yang dapat memberikan wawasan tentang tren industri film.\n"
      ],
      "metadata": {
        "id": "vBvna4wkGyJJ"
      }
    },
    {
      "cell_type": "markdown",
      "source": [
        "# Data Mining Goals"
      ],
      "metadata": {
        "id": "TES_72xTBSZ8"
      }
    },
    {
      "cell_type": "markdown",
      "source": [
        "Tujuan utama dari analisis data ini adalah untuk menemukan pola dan hubungan antara berbagai faktor yang ada dalam dataset. Analisis ini akan mencakup eksplorasi data untuk memahami distribusi dan karakteristik dataset, serta penerapan metode statistik dan visualisasi untuk mengidentifikasi korelasi antara anggaran produksi, rating, dan pendapatan film. Dengan demikian, hasil analisis ini dapat digunakan untuk memberikan rekomendasi kepada rumah produksi mengenai strategi investasi yang lebih efektif."
      ],
      "metadata": {
        "id": "ZnFf9cCfG5KD"
      }
    },
    {
      "cell_type": "markdown",
      "source": [
        "# Project Plan"
      ],
      "metadata": {
        "id": "TiBUEwGlBc0W"
      }
    },
    {
      "cell_type": "code",
      "source": [
        "import pandas as pd"
      ],
      "metadata": {
        "id": "lz8ymQpSBkgS"
      },
      "execution_count": 3,
      "outputs": []
    },
    {
      "cell_type": "code",
      "source": [
        "df = pd.read_csv('/content/db.csv', encoding='latin-1')\n",
        "print(df)"
      ],
      "metadata": {
        "colab": {
          "base_uri": "https://localhost:8080/"
        },
        "id": "1X87FkA9EjM2",
        "outputId": "2c96a690-1914-4180-e1d5-b6a3f0bd57a2"
      },
      "execution_count": 4,
      "outputs": [
        {
          "output_type": "stream",
          "name": "stdout",
          "text": [
            "    Unnamed: 0                       Original Title Company  Rate  Metascore  \\\n",
            "0            1                             Iron Man  Marvel   7.9         79   \n",
            "1            2                  The Incredible Hulk  Marvel   6.7         61   \n",
            "2            3                           Iron Man 2  Marvel   7.0         57   \n",
            "3            4                                 Thor  Marvel   7.0         57   \n",
            "4            5   Captain America: The First Avenger  Marvel   6.9         66   \n",
            "5            6                         The Avengers  Marvel   8.0         69   \n",
            "6            7                       Iron Man Three  Marvel   7.2         62   \n",
            "7            8                 Thor: The Dark World  Marvel   6.9         54   \n",
            "8            9  Captain America: The Winter Soldier  Marvel   7.7         70   \n",
            "9           10              Guardians of the Galaxy  Marvel   8.0         76   \n",
            "10          11             Avengers: Age of Ultron   Marvel   7.3         66   \n",
            "11          12                              Ant-Man  Marvel   7.3         64   \n",
            "12          13           Captain America: Civil War  Marvel   7.8         75   \n",
            "13          14                       Doctor Strange  Marvel   7.5         72   \n",
            "14          15       Guardians of the Galaxy Vol. 2  Marvel   7.6         67   \n",
            "15          16               Spider-Man: Homecoming  Marvel   7.4         73   \n",
            "16          17                        Thor:Ragnarok  Marvel   7.9         74   \n",
            "17          18                        Black Panther  Marvel   7.3         88   \n",
            "18          19               Avengers: Infinity War  Marvel   8.5         68   \n",
            "19          20                 Ant-Man and the Wasp  Marvel   7.1         70   \n",
            "20          21                        Captain Marve  Marvel   6.9         64   \n",
            "21          22                    Avengers: Endgame  Marvel   8.5         78   \n",
            "22          23            Spider-Man: Far from Home  Marvel   7.6         69   \n",
            "23          24                             Catwoman      DC   3.3         27   \n",
            "24          25                        Batman Begins      DC   8.2         70   \n",
            "25          26                     Superman Returns      DC   6.0         72   \n",
            "26          27                      The Dark Knight      DC   9.0         84   \n",
            "27          28                             Watchmen      DC   7.6         56   \n",
            "28          29                           Jonah Hex       DC   4.7         33   \n",
            "29          30                        Green Lantern      DC   5.5         39   \n",
            "30          31                The Dark Knight Rises      DC   8.4         78   \n",
            "31          32                         Man of Steel      DC   7.1         55   \n",
            "32          33   Batman v Superman: Dawn of Justice      DC   6.5         44   \n",
            "33          34                       Suicide Squad       DC   6.0         40   \n",
            "34          35                         Wonder Woman      DC   7.4         76   \n",
            "35          36                       Justice League      DC   6.4         45   \n",
            "36          37                              Aquaman      DC   7.0         55   \n",
            "37          38                              Shazam!      DC   7.1         71   \n",
            "38          39                                Joker      DC   8.7         59   \n",
            "\n",
            "   Minutes  Release      Budget  Opening Weekend USA  Gross USA  \\\n",
            "0      126     2008   140000000             98618668  318604126   \n",
            "1     112      2008   150000000             55414050  134806913   \n",
            "2     124      2010   200000000            128122480  312433331   \n",
            "3      115     2011  150000000              65723338  181030624   \n",
            "4      124     2011   140000000             65058524  176654505   \n",
            "5      143     2012   220000000            207438708  623357910   \n",
            "6      130     2013  200000000             174144585  409013994   \n",
            "7      112     2013   170000000             85737841  206362140   \n",
            "8      136     2014   170000000             95023721  259766572   \n",
            "9      121     2014   170000000             94320883  333176600   \n",
            "10     141     2015   250000000            191271109  459005868   \n",
            "11     117     2015   130000000             57225526  180202163   \n",
            "12     147     2016   250000000            179139142  408084349   \n",
            "13     115     2016   165000000             85058311  232641920   \n",
            "14     136     2017   200000000            146510104  389813101   \n",
            "15     133     2017  175000000             117027503  334201140   \n",
            "16     130     2017   180000000            122744989  315058289   \n",
            "17     134     2018   200000000            202003951  700059566   \n",
            "18     149     2018  321000000             257698183  678815482   \n",
            "19     118     2018   162000000             75812205  216648740   \n",
            "20     123     2019  175000000             153433423  426829839   \n",
            "21     181     2019   356000000            357115007  858373000   \n",
            "22     129     2019   160000000             92579212  390532085   \n",
            "23     104     2004   100000000             16728411   40202379   \n",
            "24     140     2005   150000000             48745440  206852432   \n",
            "25     154     2006   270000000             52535096  200081192   \n",
            "26     152     2008   185000000            158411483  535234033   \n",
            "27     162     2009   130000000             55214334  107509799   \n",
            "28      81     2010   47000000               5379365   10547117   \n",
            "29     114     2011   200000000             53174303  116601172   \n",
            "30     164     2012   250000000            160887295  448139099   \n",
            "31     143     2013   225000000            116619362  291045518   \n",
            "32     151     2016   250000000            166007347  330360194   \n",
            "33     123     2016   175000000            133682248  325100054   \n",
            "34     141     2017   149000000            103251471  412563408   \n",
            "35     120     2017   300000000             93842239  229024295   \n",
            "36     143     2018   160000000             67873522  335061807   \n",
            "37     132     2019   100000000             53505326  140371656   \n",
            "38     122     2019   55000000              96202337  333204580   \n",
            "\n",
            "    Gross Worldwide  \n",
            "0         585366247  \n",
            "1         263427551  \n",
            "2         623933331  \n",
            "3         449326618  \n",
            "4         370569774  \n",
            "5        1518812988  \n",
            "6        1214811252  \n",
            "7         644783140  \n",
            "8         714421503  \n",
            "9         772776600  \n",
            "10       1402805868  \n",
            "11        519311965  \n",
            "12       1153296293  \n",
            "13        677718395  \n",
            "14        863756051  \n",
            "15        880166924  \n",
            "16        853977126  \n",
            "17       1346913161  \n",
            "18       2048359754  \n",
            "19        622674139  \n",
            "20       1128274794  \n",
            "21       2797800564  \n",
            "22       1131927996  \n",
            "23         82102379  \n",
            "24        373413297  \n",
            "25        391081192  \n",
            "26       1004934033  \n",
            "27        185258983  \n",
            "28         10903312  \n",
            "29        219851172  \n",
            "30       1081041287  \n",
            "31        668045518  \n",
            "32        873634919  \n",
            "33        746846894  \n",
            "34        821847012  \n",
            "35        657924295  \n",
            "36       1148161807  \n",
            "37        364571656  \n",
            "38       1060504580  \n"
          ]
        }
      ]
    },
    {
      "cell_type": "code",
      "source": [
        "df.head()"
      ],
      "metadata": {
        "colab": {
          "base_uri": "https://localhost:8080/",
          "height": 206
        },
        "id": "3cGzALeWFGWT",
        "outputId": "a9089b09-dad6-46a6-c495-92f4fd01550b"
      },
      "execution_count": 5,
      "outputs": [
        {
          "output_type": "execute_result",
          "data": {
            "text/plain": [
              "   Unnamed: 0                      Original Title Company  Rate  Metascore  \\\n",
              "0           1                            Iron Man  Marvel   7.9         79   \n",
              "1           2                 The Incredible Hulk  Marvel   6.7         61   \n",
              "2           3                          Iron Man 2  Marvel   7.0         57   \n",
              "3           4                                Thor  Marvel   7.0         57   \n",
              "4           5  Captain America: The First Avenger  Marvel   6.9         66   \n",
              "\n",
              "  Minutes  Release      Budget  Opening Weekend USA  Gross USA  \\\n",
              "0     126     2008   140000000             98618668  318604126   \n",
              "1    112      2008   150000000             55414050  134806913   \n",
              "2    124      2010   200000000            128122480  312433331   \n",
              "3     115     2011  150000000              65723338  181030624   \n",
              "4     124     2011   140000000             65058524  176654505   \n",
              "\n",
              "   Gross Worldwide  \n",
              "0        585366247  \n",
              "1        263427551  \n",
              "2        623933331  \n",
              "3        449326618  \n",
              "4        370569774  "
            ],
            "text/html": [
              "\n",
              "  <div id=\"df-17c4324e-4014-47f8-b614-ce0d2359316e\" class=\"colab-df-container\">\n",
              "    <div>\n",
              "<style scoped>\n",
              "    .dataframe tbody tr th:only-of-type {\n",
              "        vertical-align: middle;\n",
              "    }\n",
              "\n",
              "    .dataframe tbody tr th {\n",
              "        vertical-align: top;\n",
              "    }\n",
              "\n",
              "    .dataframe thead th {\n",
              "        text-align: right;\n",
              "    }\n",
              "</style>\n",
              "<table border=\"1\" class=\"dataframe\">\n",
              "  <thead>\n",
              "    <tr style=\"text-align: right;\">\n",
              "      <th></th>\n",
              "      <th>Unnamed: 0</th>\n",
              "      <th>Original Title</th>\n",
              "      <th>Company</th>\n",
              "      <th>Rate</th>\n",
              "      <th>Metascore</th>\n",
              "      <th>Minutes</th>\n",
              "      <th>Release</th>\n",
              "      <th>Budget</th>\n",
              "      <th>Opening Weekend USA</th>\n",
              "      <th>Gross USA</th>\n",
              "      <th>Gross Worldwide</th>\n",
              "    </tr>\n",
              "  </thead>\n",
              "  <tbody>\n",
              "    <tr>\n",
              "      <th>0</th>\n",
              "      <td>1</td>\n",
              "      <td>Iron Man</td>\n",
              "      <td>Marvel</td>\n",
              "      <td>7.9</td>\n",
              "      <td>79</td>\n",
              "      <td>126</td>\n",
              "      <td>2008</td>\n",
              "      <td>140000000</td>\n",
              "      <td>98618668</td>\n",
              "      <td>318604126</td>\n",
              "      <td>585366247</td>\n",
              "    </tr>\n",
              "    <tr>\n",
              "      <th>1</th>\n",
              "      <td>2</td>\n",
              "      <td>The Incredible Hulk</td>\n",
              "      <td>Marvel</td>\n",
              "      <td>6.7</td>\n",
              "      <td>61</td>\n",
              "      <td>112</td>\n",
              "      <td>2008</td>\n",
              "      <td>150000000</td>\n",
              "      <td>55414050</td>\n",
              "      <td>134806913</td>\n",
              "      <td>263427551</td>\n",
              "    </tr>\n",
              "    <tr>\n",
              "      <th>2</th>\n",
              "      <td>3</td>\n",
              "      <td>Iron Man 2</td>\n",
              "      <td>Marvel</td>\n",
              "      <td>7.0</td>\n",
              "      <td>57</td>\n",
              "      <td>124</td>\n",
              "      <td>2010</td>\n",
              "      <td>200000000</td>\n",
              "      <td>128122480</td>\n",
              "      <td>312433331</td>\n",
              "      <td>623933331</td>\n",
              "    </tr>\n",
              "    <tr>\n",
              "      <th>3</th>\n",
              "      <td>4</td>\n",
              "      <td>Thor</td>\n",
              "      <td>Marvel</td>\n",
              "      <td>7.0</td>\n",
              "      <td>57</td>\n",
              "      <td>115</td>\n",
              "      <td>2011</td>\n",
              "      <td>150000000</td>\n",
              "      <td>65723338</td>\n",
              "      <td>181030624</td>\n",
              "      <td>449326618</td>\n",
              "    </tr>\n",
              "    <tr>\n",
              "      <th>4</th>\n",
              "      <td>5</td>\n",
              "      <td>Captain America: The First Avenger</td>\n",
              "      <td>Marvel</td>\n",
              "      <td>6.9</td>\n",
              "      <td>66</td>\n",
              "      <td>124</td>\n",
              "      <td>2011</td>\n",
              "      <td>140000000</td>\n",
              "      <td>65058524</td>\n",
              "      <td>176654505</td>\n",
              "      <td>370569774</td>\n",
              "    </tr>\n",
              "  </tbody>\n",
              "</table>\n",
              "</div>\n",
              "    <div class=\"colab-df-buttons\">\n",
              "\n",
              "  <div class=\"colab-df-container\">\n",
              "    <button class=\"colab-df-convert\" onclick=\"convertToInteractive('df-17c4324e-4014-47f8-b614-ce0d2359316e')\"\n",
              "            title=\"Convert this dataframe to an interactive table.\"\n",
              "            style=\"display:none;\">\n",
              "\n",
              "  <svg xmlns=\"http://www.w3.org/2000/svg\" height=\"24px\" viewBox=\"0 -960 960 960\">\n",
              "    <path d=\"M120-120v-720h720v720H120Zm60-500h600v-160H180v160Zm220 220h160v-160H400v160Zm0 220h160v-160H400v160ZM180-400h160v-160H180v160Zm440 0h160v-160H620v160ZM180-180h160v-160H180v160Zm440 0h160v-160H620v160Z\"/>\n",
              "  </svg>\n",
              "    </button>\n",
              "\n",
              "  <style>\n",
              "    .colab-df-container {\n",
              "      display:flex;\n",
              "      gap: 12px;\n",
              "    }\n",
              "\n",
              "    .colab-df-convert {\n",
              "      background-color: #E8F0FE;\n",
              "      border: none;\n",
              "      border-radius: 50%;\n",
              "      cursor: pointer;\n",
              "      display: none;\n",
              "      fill: #1967D2;\n",
              "      height: 32px;\n",
              "      padding: 0 0 0 0;\n",
              "      width: 32px;\n",
              "    }\n",
              "\n",
              "    .colab-df-convert:hover {\n",
              "      background-color: #E2EBFA;\n",
              "      box-shadow: 0px 1px 2px rgba(60, 64, 67, 0.3), 0px 1px 3px 1px rgba(60, 64, 67, 0.15);\n",
              "      fill: #174EA6;\n",
              "    }\n",
              "\n",
              "    .colab-df-buttons div {\n",
              "      margin-bottom: 4px;\n",
              "    }\n",
              "\n",
              "    [theme=dark] .colab-df-convert {\n",
              "      background-color: #3B4455;\n",
              "      fill: #D2E3FC;\n",
              "    }\n",
              "\n",
              "    [theme=dark] .colab-df-convert:hover {\n",
              "      background-color: #434B5C;\n",
              "      box-shadow: 0px 1px 3px 1px rgba(0, 0, 0, 0.15);\n",
              "      filter: drop-shadow(0px 1px 2px rgba(0, 0, 0, 0.3));\n",
              "      fill: #FFFFFF;\n",
              "    }\n",
              "  </style>\n",
              "\n",
              "    <script>\n",
              "      const buttonEl =\n",
              "        document.querySelector('#df-17c4324e-4014-47f8-b614-ce0d2359316e button.colab-df-convert');\n",
              "      buttonEl.style.display =\n",
              "        google.colab.kernel.accessAllowed ? 'block' : 'none';\n",
              "\n",
              "      async function convertToInteractive(key) {\n",
              "        const element = document.querySelector('#df-17c4324e-4014-47f8-b614-ce0d2359316e');\n",
              "        const dataTable =\n",
              "          await google.colab.kernel.invokeFunction('convertToInteractive',\n",
              "                                                    [key], {});\n",
              "        if (!dataTable) return;\n",
              "\n",
              "        const docLinkHtml = 'Like what you see? Visit the ' +\n",
              "          '<a target=\"_blank\" href=https://colab.research.google.com/notebooks/data_table.ipynb>data table notebook</a>'\n",
              "          + ' to learn more about interactive tables.';\n",
              "        element.innerHTML = '';\n",
              "        dataTable['output_type'] = 'display_data';\n",
              "        await google.colab.output.renderOutput(dataTable, element);\n",
              "        const docLink = document.createElement('div');\n",
              "        docLink.innerHTML = docLinkHtml;\n",
              "        element.appendChild(docLink);\n",
              "      }\n",
              "    </script>\n",
              "  </div>\n",
              "\n",
              "\n",
              "<div id=\"df-a05f9fbc-ead1-4431-b899-f0bad88d5640\">\n",
              "  <button class=\"colab-df-quickchart\" onclick=\"quickchart('df-a05f9fbc-ead1-4431-b899-f0bad88d5640')\"\n",
              "            title=\"Suggest charts\"\n",
              "            style=\"display:none;\">\n",
              "\n",
              "<svg xmlns=\"http://www.w3.org/2000/svg\" height=\"24px\"viewBox=\"0 0 24 24\"\n",
              "     width=\"24px\">\n",
              "    <g>\n",
              "        <path d=\"M19 3H5c-1.1 0-2 .9-2 2v14c0 1.1.9 2 2 2h14c1.1 0 2-.9 2-2V5c0-1.1-.9-2-2-2zM9 17H7v-7h2v7zm4 0h-2V7h2v10zm4 0h-2v-4h2v4z\"/>\n",
              "    </g>\n",
              "</svg>\n",
              "  </button>\n",
              "\n",
              "<style>\n",
              "  .colab-df-quickchart {\n",
              "      --bg-color: #E8F0FE;\n",
              "      --fill-color: #1967D2;\n",
              "      --hover-bg-color: #E2EBFA;\n",
              "      --hover-fill-color: #174EA6;\n",
              "      --disabled-fill-color: #AAA;\n",
              "      --disabled-bg-color: #DDD;\n",
              "  }\n",
              "\n",
              "  [theme=dark] .colab-df-quickchart {\n",
              "      --bg-color: #3B4455;\n",
              "      --fill-color: #D2E3FC;\n",
              "      --hover-bg-color: #434B5C;\n",
              "      --hover-fill-color: #FFFFFF;\n",
              "      --disabled-bg-color: #3B4455;\n",
              "      --disabled-fill-color: #666;\n",
              "  }\n",
              "\n",
              "  .colab-df-quickchart {\n",
              "    background-color: var(--bg-color);\n",
              "    border: none;\n",
              "    border-radius: 50%;\n",
              "    cursor: pointer;\n",
              "    display: none;\n",
              "    fill: var(--fill-color);\n",
              "    height: 32px;\n",
              "    padding: 0;\n",
              "    width: 32px;\n",
              "  }\n",
              "\n",
              "  .colab-df-quickchart:hover {\n",
              "    background-color: var(--hover-bg-color);\n",
              "    box-shadow: 0 1px 2px rgba(60, 64, 67, 0.3), 0 1px 3px 1px rgba(60, 64, 67, 0.15);\n",
              "    fill: var(--button-hover-fill-color);\n",
              "  }\n",
              "\n",
              "  .colab-df-quickchart-complete:disabled,\n",
              "  .colab-df-quickchart-complete:disabled:hover {\n",
              "    background-color: var(--disabled-bg-color);\n",
              "    fill: var(--disabled-fill-color);\n",
              "    box-shadow: none;\n",
              "  }\n",
              "\n",
              "  .colab-df-spinner {\n",
              "    border: 2px solid var(--fill-color);\n",
              "    border-color: transparent;\n",
              "    border-bottom-color: var(--fill-color);\n",
              "    animation:\n",
              "      spin 1s steps(1) infinite;\n",
              "  }\n",
              "\n",
              "  @keyframes spin {\n",
              "    0% {\n",
              "      border-color: transparent;\n",
              "      border-bottom-color: var(--fill-color);\n",
              "      border-left-color: var(--fill-color);\n",
              "    }\n",
              "    20% {\n",
              "      border-color: transparent;\n",
              "      border-left-color: var(--fill-color);\n",
              "      border-top-color: var(--fill-color);\n",
              "    }\n",
              "    30% {\n",
              "      border-color: transparent;\n",
              "      border-left-color: var(--fill-color);\n",
              "      border-top-color: var(--fill-color);\n",
              "      border-right-color: var(--fill-color);\n",
              "    }\n",
              "    40% {\n",
              "      border-color: transparent;\n",
              "      border-right-color: var(--fill-color);\n",
              "      border-top-color: var(--fill-color);\n",
              "    }\n",
              "    60% {\n",
              "      border-color: transparent;\n",
              "      border-right-color: var(--fill-color);\n",
              "    }\n",
              "    80% {\n",
              "      border-color: transparent;\n",
              "      border-right-color: var(--fill-color);\n",
              "      border-bottom-color: var(--fill-color);\n",
              "    }\n",
              "    90% {\n",
              "      border-color: transparent;\n",
              "      border-bottom-color: var(--fill-color);\n",
              "    }\n",
              "  }\n",
              "</style>\n",
              "\n",
              "  <script>\n",
              "    async function quickchart(key) {\n",
              "      const quickchartButtonEl =\n",
              "        document.querySelector('#' + key + ' button');\n",
              "      quickchartButtonEl.disabled = true;  // To prevent multiple clicks.\n",
              "      quickchartButtonEl.classList.add('colab-df-spinner');\n",
              "      try {\n",
              "        const charts = await google.colab.kernel.invokeFunction(\n",
              "            'suggestCharts', [key], {});\n",
              "      } catch (error) {\n",
              "        console.error('Error during call to suggestCharts:', error);\n",
              "      }\n",
              "      quickchartButtonEl.classList.remove('colab-df-spinner');\n",
              "      quickchartButtonEl.classList.add('colab-df-quickchart-complete');\n",
              "    }\n",
              "    (() => {\n",
              "      let quickchartButtonEl =\n",
              "        document.querySelector('#df-a05f9fbc-ead1-4431-b899-f0bad88d5640 button');\n",
              "      quickchartButtonEl.style.display =\n",
              "        google.colab.kernel.accessAllowed ? 'block' : 'none';\n",
              "    })();\n",
              "  </script>\n",
              "</div>\n",
              "\n",
              "    </div>\n",
              "  </div>\n"
            ],
            "application/vnd.google.colaboratory.intrinsic+json": {
              "type": "dataframe",
              "variable_name": "df",
              "summary": "{\n  \"name\": \"df\",\n  \"rows\": 39,\n  \"fields\": [\n    {\n      \"column\": \"Unnamed: 0\",\n      \"properties\": {\n        \"dtype\": \"number\",\n        \"std\": 11,\n        \"min\": 1,\n        \"max\": 39,\n        \"num_unique_values\": 39,\n        \"samples\": [\n          34,\n          37,\n          5\n        ],\n        \"semantic_type\": \"\",\n        \"description\": \"\"\n      }\n    },\n    {\n      \"column\": \"Original Title\",\n      \"properties\": {\n        \"dtype\": \"string\",\n        \"num_unique_values\": 39,\n        \"samples\": [\n          \"Suicide Squad\\u00a0\",\n          \"Aquaman\",\n          \"Captain America: The First Avenger\"\n        ],\n        \"semantic_type\": \"\",\n        \"description\": \"\"\n      }\n    },\n    {\n      \"column\": \"Company\",\n      \"properties\": {\n        \"dtype\": \"category\",\n        \"num_unique_values\": 2,\n        \"samples\": [\n          \"DC\",\n          \"Marvel\"\n        ],\n        \"semantic_type\": \"\",\n        \"description\": \"\"\n      }\n    },\n    {\n      \"column\": \"Rate\",\n      \"properties\": {\n        \"dtype\": \"number\",\n        \"std\": 1.0747061237201885,\n        \"min\": 3.3,\n        \"max\": 9.0,\n        \"num_unique_values\": 24,\n        \"samples\": [\n          7.8,\n          6.0\n        ],\n        \"semantic_type\": \"\",\n        \"description\": \"\"\n      }\n    },\n    {\n      \"column\": \"Metascore\",\n      \"properties\": {\n        \"dtype\": \"number\",\n        \"std\": 13,\n        \"min\": 27,\n        \"max\": 88,\n        \"num_unique_values\": 29,\n        \"samples\": [\n          71,\n          68\n        ],\n        \"semantic_type\": \"\",\n        \"description\": \"\"\n      }\n    },\n    {\n      \"column\": \"Minutes\",\n      \"properties\": {\n        \"dtype\": \"string\",\n        \"num_unique_values\": 32,\n        \"samples\": [\n          \"120\",\n          \"149\"\n        ],\n        \"semantic_type\": \"\",\n        \"description\": \"\"\n      }\n    },\n    {\n      \"column\": \"Release\",\n      \"properties\": {\n        \"dtype\": \"number\",\n        \"std\": 4,\n        \"min\": 2004,\n        \"max\": 2019,\n        \"num_unique_values\": 15,\n        \"samples\": [\n          2018,\n          2004\n        ],\n        \"semantic_type\": \"\",\n        \"description\": \"\"\n      }\n    },\n    {\n      \"column\": \"Budget\",\n      \"properties\": {\n        \"dtype\": \"string\",\n        \"num_unique_values\": 25,\n        \"samples\": [\n          \"130000000\",\n          \"100000000\"\n        ],\n        \"semantic_type\": \"\",\n        \"description\": \"\"\n      }\n    },\n    {\n      \"column\": \"Opening Weekend USA\",\n      \"properties\": {\n        \"dtype\": \"number\",\n        \"std\": 68667078,\n        \"min\": 5379365,\n        \"max\": 357115007,\n        \"num_unique_values\": 39,\n        \"samples\": [\n          133682248,\n          67873522\n        ],\n        \"semantic_type\": \"\",\n        \"description\": \"\"\n      }\n    },\n    {\n      \"column\": \"Gross\\u00a0USA\",\n      \"properties\": {\n        \"dtype\": \"number\",\n        \"std\": 180708575,\n        \"min\": 10547117,\n        \"max\": 858373000,\n        \"num_unique_values\": 39,\n        \"samples\": [\n          325100054,\n          335061807\n        ],\n        \"semantic_type\": \"\",\n        \"description\": \"\"\n      }\n    },\n    {\n      \"column\": \"Gross Worldwide\",\n      \"properties\": {\n        \"dtype\": \"number\",\n        \"std\": 533231804,\n        \"min\": 10903312,\n        \"max\": 2797800564,\n        \"num_unique_values\": 39,\n        \"samples\": [\n          746846894,\n          1148161807\n        ],\n        \"semantic_type\": \"\",\n        \"description\": \"\"\n      }\n    }\n  ]\n}"
            }
          },
          "metadata": {},
          "execution_count": 5
        }
      ]
    },
    {
      "cell_type": "code",
      "source": [
        "df.info()\n",
        "kolom_tertentu = \"Company\"\n",
        "if kolom_tertentu in df.columns:\n",
        "    print(f\"\\nMenghitung jumlah kemunculan nilai unik dalam kolom '{kolom_tertentu}':\")\n",
        "    print(df[kolom_tertentu].value_counts())\n",
        "else:\n",
        "    print(f\"\\nKolom '{kolom_tertentu}' tidak ditemukan dalam dataset.\")"
      ],
      "metadata": {
        "colab": {
          "base_uri": "https://localhost:8080/"
        },
        "id": "ZgnET9brFI37",
        "outputId": "3c591ce6-f8b0-41f2-a490-d23b53aa825b"
      },
      "execution_count": 6,
      "outputs": [
        {
          "output_type": "stream",
          "name": "stdout",
          "text": [
            "<class 'pandas.core.frame.DataFrame'>\n",
            "RangeIndex: 39 entries, 0 to 38\n",
            "Data columns (total 11 columns):\n",
            " #   Column               Non-Null Count  Dtype  \n",
            "---  ------               --------------  -----  \n",
            " 0   Unnamed: 0           39 non-null     int64  \n",
            " 1   Original Title       39 non-null     object \n",
            " 2   Company              39 non-null     object \n",
            " 3   Rate                 39 non-null     float64\n",
            " 4   Metascore            39 non-null     int64  \n",
            " 5   Minutes              39 non-null     object \n",
            " 6   Release              39 non-null     int64  \n",
            " 7   Budget               39 non-null     object \n",
            " 8   Opening Weekend USA  39 non-null     int64  \n",
            " 9   Gross USA            39 non-null     int64  \n",
            " 10  Gross Worldwide      39 non-null     int64  \n",
            "dtypes: float64(1), int64(6), object(4)\n",
            "memory usage: 3.5+ KB\n",
            "\n",
            "Menghitung jumlah kemunculan nilai unik dalam kolom 'Company':\n",
            "Company\n",
            "Marvel    23\n",
            "DC        16\n",
            "Name: count, dtype: int64\n"
          ]
        }
      ]
    },
    {
      "cell_type": "code",
      "source": [
        "print(\"\\nMenghitung median dengan df.median():\")\n",
        "print(df.median(numeric_only=True))"
      ],
      "metadata": {
        "colab": {
          "base_uri": "https://localhost:8080/"
        },
        "id": "8h7WCCAdFmoJ",
        "outputId": "08e4f6c4-f84d-4b9d-c0c5-038108f0d8bb"
      },
      "execution_count": 7,
      "outputs": [
        {
          "output_type": "stream",
          "name": "stdout",
          "text": [
            "\n",
            "Menghitung median dengan df.median():\n",
            "Unnamed: 0                    20.0\n",
            "Rate                           7.3\n",
            "Metascore                     67.0\n",
            "Release                     2015.0\n",
            "Opening Weekend USA     96202337.0\n",
            "Gross USA              318604126.0\n",
            "Gross Worldwide        746846894.0\n",
            "dtype: float64\n"
          ]
        }
      ]
    },
    {
      "cell_type": "code",
      "source": [
        "print(\"\\nMenghitung rata-rata dengan df.mean():\")\n",
        "print(df.mean(numeric_only=True))"
      ],
      "metadata": {
        "colab": {
          "base_uri": "https://localhost:8080/"
        },
        "id": "oR13NrU3Frhs",
        "outputId": "aee4ec8a-cab5-4263-d5e2-a46459938340"
      },
      "execution_count": 8,
      "outputs": [
        {
          "output_type": "stream",
          "name": "stdout",
          "text": [
            "\n",
            "Menghitung rata-rata dengan df.mean():\n",
            "Unnamed: 0             2.000000e+01\n",
            "Rate                   7.202564e+00\n",
            "Metascore              6.366667e+01\n",
            "Release                2.013795e+03\n",
            "Opening Weekend USA    1.151098e+08\n",
            "Gross USA              3.232659e+08\n",
            "Gross Worldwide        8.275727e+08\n",
            "dtype: float64\n"
          ]
        }
      ]
    },
    {
      "cell_type": "code",
      "source": [
        "print(\"\\nMenghitung standar deviasi dengan df.std():\")\n",
        "print(df.std(numeric_only=True))"
      ],
      "metadata": {
        "colab": {
          "base_uri": "https://localhost:8080/"
        },
        "id": "WRgVIq71FwUd",
        "outputId": "07bd300c-ae12-4b6a-bd73-754655981ef8"
      },
      "execution_count": 9,
      "outputs": [
        {
          "output_type": "stream",
          "name": "stdout",
          "text": [
            "\n",
            "Menghitung standar deviasi dengan df.std():\n",
            "Unnamed: 0             1.140175e+01\n",
            "Rate                   1.074706e+00\n",
            "Metascore              1.386084e+01\n",
            "Release                4.286942e+00\n",
            "Opening Weekend USA    6.866708e+07\n",
            "Gross USA              1.807086e+08\n",
            "Gross Worldwide        5.332318e+08\n",
            "dtype: float64\n"
          ]
        }
      ]
    },
    {
      "cell_type": "code",
      "source": [
        "print(\"\\nMenghitung korelasi antar kolom numerik dengan df.corr():\")\n",
        "print(df.corr(numeric_only=True))"
      ],
      "metadata": {
        "colab": {
          "base_uri": "https://localhost:8080/"
        },
        "id": "qIbvVntMF1FZ",
        "outputId": "6e3e03e4-c1e5-4887-f9e7-0ddfde2c22fc"
      },
      "execution_count": 10,
      "outputs": [
        {
          "output_type": "stream",
          "name": "stdout",
          "text": [
            "\n",
            "Menghitung korelasi antar kolom numerik dengan df.corr():\n",
            "                     Unnamed: 0      Rate  Metascore   Release  \\\n",
            "Unnamed: 0             1.000000 -0.143460  -0.281745  0.247660   \n",
            "Rate                  -0.143460  1.000000   0.786901  0.331977   \n",
            "Metascore             -0.281745  0.786901   1.000000  0.232213   \n",
            "Release                0.247660  0.331977   0.232213  1.000000   \n",
            "Opening Weekend USA   -0.112277  0.521689   0.425888  0.433480   \n",
            "Gross USA             -0.062961  0.609582   0.575244  0.449439   \n",
            "Gross Worldwide       -0.031942  0.565348   0.450119  0.552735   \n",
            "\n",
            "                     Opening Weekend USA  Gross USA  Gross Worldwide  \n",
            "Unnamed: 0                     -0.112277  -0.062961        -0.031942  \n",
            "Rate                            0.521689   0.609582         0.565348  \n",
            "Metascore                       0.425888   0.575244         0.450119  \n",
            "Release                         0.433480   0.449439         0.552735  \n",
            "Opening Weekend USA             1.000000   0.935783         0.933075  \n",
            "Gross USA                       0.935783   1.000000         0.939677  \n",
            "Gross Worldwide                 0.933075   0.939677         1.000000  \n"
          ]
        }
      ]
    }
  ]
}